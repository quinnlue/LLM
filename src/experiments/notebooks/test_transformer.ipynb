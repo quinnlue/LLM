{
 "cells": [
  {
   "cell_type": "code",
   "execution_count": 1,
   "id": "49bfc84e",
   "metadata": {},
   "outputs": [],
   "source": [
    "import os, sys\n",
    "sys.path.append(\"../../../\")\n",
    "\n",
    "from src.core.module import Module\n",
    "from src.core.losses import CrossEntropy\n",
    "from src.core.optim import AdamW\n",
    "from src.core.tensor import Tensor\n",
    "import numpy as np\n",
    "\n",
    "\n",
    "class Net(Module):\n",
    "    def __init__(self, d_model, n_heads, vocab_size, max_seq_len, pad_idx=0):\n",
    "        super().__init__()\n",
    "        self.e = self.embedding(vocab_size, d_model, max_seq_len, pad_idx, name=\"Embedding\")\n",
    "\n",
    "        self.head1 = self.transformer(d_model=d_model, n_heads=n_heads)\n",
    "        self.head2 = self.transformer(d_model=d_model, n_heads=n_heads)\n",
    "        self.head3 = self.transformer(d_model=d_model, n_heads=n_heads)\n",
    "        self.head4 = self.transformer(d_model=d_model, n_heads=n_heads)\n",
    "        self.head5 = self.transformer(d_model=d_model, n_heads=n_heads)\n",
    "        self.head6 = self.transformer(d_model=d_model, n_heads=n_heads)\n",
    "        self.head7 = self.transformer(d_model=d_model, n_heads=n_heads)\n",
    "        self.head8 = self.transformer(d_model=d_model, n_heads=n_heads)\n",
    "        self.project = self.linear(d_model, vocab_size, name=\"project\")\n",
    "    \n",
    "    def forward(self, idx):\n",
    "        x, padding_mask = self.e.get_sentence_embedding(idx)\n",
    "        x = self.head1(x, padding_mask)\n",
    "        x = self.head2(x, padding_mask)\n",
    "        x = self.head3(x, padding_mask)\n",
    "        x = self.head4(x, padding_mask)\n",
    "        x = self.head5(x, padding_mask)\n",
    "        x = self.head6(x, padding_mask)\n",
    "        x = self.head7(x, padding_mask)\n",
    "        x = self.head8(x, padding_mask)\n",
    "        x = self.project(x)\n",
    "        return x\n",
    "\n",
    "    def train(self, x, y, epochs, optimizer):\n",
    "        for epoch in range(epochs):\n",
    "            y_hat = self.forward(x)\n",
    "            loss = CrossEntropy(y_hat, y, axis=-1)\n",
    "    \n",
    "            loss.backward()\n",
    "            optimizer.step()\n",
    "            optimizer.zero_grad()\n",
    "            if epoch % 1 == 0:\n",
    "                print(f\"Epoch {epoch}, Loss: {loss.data}\")\n",
    "                \n",
    "\n",
    "        "
   ]
  },
  {
   "cell_type": "code",
   "execution_count": 2,
   "id": "3f2f559c",
   "metadata": {},
   "outputs": [
    {
     "name": "stdout",
     "output_type": "stream",
     "text": [
      "Epoch 0, Loss: 4.609375\n",
      "Epoch 1, Loss: 1.22265625\n",
      "Epoch 2, Loss: 0.04901123046875\n",
      "Epoch 3, Loss: 0.0023403167724609375\n",
      "Epoch 4, Loss: -0.0\n",
      "Epoch 5, Loss: -0.0\n",
      "Epoch 6, Loss: -0.0\n",
      "Epoch 7, Loss: -0.0\n",
      "Epoch 8, Loss: -0.0\n",
      "Epoch 9, Loss: -0.0\n"
     ]
    }
   ],
   "source": [
    "if __name__ == \"__main__\":\n",
    "    D_MODEL = 512\n",
    "    VOCAB_SIZE = 100\n",
    "    N_HEADS = 8\n",
    "    MAX_SEQ_LEN = 1024\n",
    "    PAD_IDX = 0\n",
    "\n",
    "    model = Net(d_model=D_MODEL, n_heads=N_HEADS, vocab_size=VOCAB_SIZE, max_seq_len=MAX_SEQ_LEN, pad_idx=PAD_IDX)\n",
    "    optimizer = AdamW(model.parameters(), lr=0.01)\n",
    "\n",
    "    x = np.array([[1, 2, 3, 4, 5]])\n",
    "    y = Tensor(np.array([[2, 3, 4, 5, 6]]), requires_grad=True)\n",
    "    model.train(x, y, epochs=10, optimizer=optimizer)\n",
    "\n",
    "    model.save_checkpoint(optimizer, \"test_transformer\")\n",
    "\n",
    "    "
   ]
  },
  {
   "cell_type": "code",
   "execution_count": 3,
   "id": "c1ccf32a",
   "metadata": {},
   "outputs": [
    {
     "ename": "FileNotFoundError",
     "evalue": "[Errno 2] No such file or directory: 'test_transformer/model/transformer_8_layernorm_2_gamma.npy'",
     "output_type": "error",
     "traceback": [
      "\u001b[31m---------------------------------------------------------------------------\u001b[39m",
      "\u001b[31mFileNotFoundError\u001b[39m                         Traceback (most recent call last)",
      "\u001b[36mCell\u001b[39m\u001b[36m \u001b[39m\u001b[32mIn[3]\u001b[39m\u001b[32m, line 5\u001b[39m\n\u001b[32m      2\u001b[39m new_model = Net(d_model=D_MODEL, n_heads=N_HEADS, vocab_size=VOCAB_SIZE, max_seq_len=MAX_SEQ_LEN, pad_idx=PAD_IDX)\n\u001b[32m      3\u001b[39m new_optimizer = AdamW(new_model.parameters(), lr=\u001b[32m0.01\u001b[39m)\n\u001b[32m----> \u001b[39m\u001b[32m5\u001b[39m \u001b[43mnew_model\u001b[49m\u001b[43m.\u001b[49m\u001b[43mload_checkpoint\u001b[49m\u001b[43m(\u001b[49m\u001b[43mnew_optimizer\u001b[49m\u001b[43m,\u001b[49m\u001b[43m \u001b[49m\u001b[33;43m\"\u001b[39;49m\u001b[33;43mtest_transformer\u001b[39;49m\u001b[33;43m\"\u001b[39;49m\u001b[43m)\u001b[49m\n\u001b[32m      7\u001b[39m model.train(x, y, epochs=\u001b[32m10\u001b[39m, optimizer=new_optimizer)\n",
      "\u001b[36mFile \u001b[39m\u001b[32mc:\\ml-projects\\transformer\\src\\experiments\\notebooks\\../../..\\src\\core\\module.py:42\u001b[39m, in \u001b[36mModule.load_checkpoint\u001b[39m\u001b[34m(self, optimizer, path)\u001b[39m\n\u001b[32m     41\u001b[39m \u001b[38;5;28;01mdef\u001b[39;00m\u001b[38;5;250m \u001b[39m\u001b[34mload_checkpoint\u001b[39m(\u001b[38;5;28mself\u001b[39m, optimizer, path):\n\u001b[32m---> \u001b[39m\u001b[32m42\u001b[39m     \u001b[43moptimizer\u001b[49m\u001b[43m.\u001b[49m\u001b[43m_load_state\u001b[49m\u001b[43m(\u001b[49m\u001b[43mpath\u001b[49m\u001b[43m)\u001b[49m\n",
      "\u001b[36mFile \u001b[39m\u001b[32mc:\\ml-projects\\transformer\\src\\experiments\\notebooks\\../../..\\src\\core\\optim.py:109\u001b[39m, in \u001b[36mAdamW._load_state\u001b[39m\u001b[34m(self, path)\u001b[39m\n\u001b[32m    108\u001b[39m \u001b[38;5;28;01mdef\u001b[39;00m\u001b[38;5;250m \u001b[39m\u001b[34m_load_state\u001b[39m(\u001b[38;5;28mself\u001b[39m, path):\n\u001b[32m--> \u001b[39m\u001b[32m109\u001b[39m     \u001b[38;5;28;43mself\u001b[39;49m\u001b[43m.\u001b[49m\u001b[43m_load_params\u001b[49m\u001b[43m(\u001b[49m\u001b[43mpath\u001b[49m\u001b[43m)\u001b[49m\n\u001b[32m    110\u001b[39m     \u001b[38;5;28;01mfor\u001b[39;00m name, param \u001b[38;5;129;01min\u001b[39;00m \u001b[38;5;28mself\u001b[39m.params.items():\n\u001b[32m    111\u001b[39m         param[\u001b[33m'\u001b[39m\u001b[33mm_t\u001b[39m\u001b[33m'\u001b[39m] = xp.array(np.load(\u001b[33mf\u001b[39m\u001b[33m\"\u001b[39m\u001b[38;5;132;01m{\u001b[39;00mpath\u001b[38;5;132;01m}\u001b[39;00m\u001b[33m/optim/m_t/\u001b[39m\u001b[38;5;132;01m{\u001b[39;00mname\u001b[38;5;132;01m}\u001b[39;00m\u001b[33m.npy\u001b[39m\u001b[33m\"\u001b[39m))\n",
      "\u001b[36mFile \u001b[39m\u001b[32mc:\\ml-projects\\transformer\\src\\experiments\\notebooks\\../../..\\src\\core\\optim.py:77\u001b[39m, in \u001b[36mOptimizer._load_params\u001b[39m\u001b[34m(self, path)\u001b[39m\n\u001b[32m     74\u001b[39m \u001b[38;5;28;01mdef\u001b[39;00m\u001b[38;5;250m \u001b[39m\u001b[34m_load_params\u001b[39m(\u001b[38;5;28mself\u001b[39m, path):\n\u001b[32m     75\u001b[39m     \u001b[38;5;66;03m# ONLY CALL WITHIN THE SPECIFIC OPTIMIZER (AdamW, Standard, etc.)\u001b[39;00m\n\u001b[32m     76\u001b[39m     \u001b[38;5;28;01mfor\u001b[39;00m name, param \u001b[38;5;129;01min\u001b[39;00m \u001b[38;5;28mself\u001b[39m.params.items():\n\u001b[32m---> \u001b[39m\u001b[32m77\u001b[39m         param[\u001b[33m'\u001b[39m\u001b[33mparam\u001b[39m\u001b[33m'\u001b[39m].data = \u001b[43mnp\u001b[49m\u001b[43m.\u001b[49m\u001b[43mload\u001b[49m\u001b[43m(\u001b[49m\u001b[33;43mf\u001b[39;49m\u001b[33;43m\"\u001b[39;49m\u001b[38;5;132;43;01m{\u001b[39;49;00m\u001b[43mpath\u001b[49m\u001b[38;5;132;43;01m}\u001b[39;49;00m\u001b[33;43m/model/\u001b[39;49m\u001b[38;5;132;43;01m{\u001b[39;49;00m\u001b[43mname\u001b[49m\u001b[38;5;132;43;01m}\u001b[39;49;00m\u001b[33;43m.npy\u001b[39;49m\u001b[33;43m\"\u001b[39;49m\u001b[43m)\u001b[49m\n",
      "\u001b[36mFile \u001b[39m\u001b[32mc:\\Users\\luequ\\AppData\\Local\\Programs\\Python\\Python312\\Lib\\site-packages\\numpy\\lib\\_npyio_impl.py:454\u001b[39m, in \u001b[36mload\u001b[39m\u001b[34m(file, mmap_mode, allow_pickle, fix_imports, encoding, max_header_size)\u001b[39m\n\u001b[32m    452\u001b[39m     own_fid = \u001b[38;5;28;01mFalse\u001b[39;00m\n\u001b[32m    453\u001b[39m \u001b[38;5;28;01melse\u001b[39;00m:\n\u001b[32m--> \u001b[39m\u001b[32m454\u001b[39m     fid = stack.enter_context(\u001b[38;5;28;43mopen\u001b[39;49m\u001b[43m(\u001b[49m\u001b[43mos\u001b[49m\u001b[43m.\u001b[49m\u001b[43mfspath\u001b[49m\u001b[43m(\u001b[49m\u001b[43mfile\u001b[49m\u001b[43m)\u001b[49m\u001b[43m,\u001b[49m\u001b[43m \u001b[49m\u001b[33;43m\"\u001b[39;49m\u001b[33;43mrb\u001b[39;49m\u001b[33;43m\"\u001b[39;49m\u001b[43m)\u001b[49m)\n\u001b[32m    455\u001b[39m     own_fid = \u001b[38;5;28;01mTrue\u001b[39;00m\n\u001b[32m    457\u001b[39m \u001b[38;5;66;03m# Code to distinguish from NumPy binary files and pickles.\u001b[39;00m\n",
      "\u001b[31mFileNotFoundError\u001b[39m: [Errno 2] No such file or directory: 'test_transformer/model/transformer_8_layernorm_2_gamma.npy'"
     ]
    }
   ],
   "source": [
    "if __name__ == \"__main__\":\n",
    "    new_model = Net(d_model=D_MODEL, n_heads=N_HEADS, vocab_size=VOCAB_SIZE, max_seq_len=MAX_SEQ_LEN, pad_idx=PAD_IDX)\n",
    "    new_optimizer = AdamW(new_model.parameters(), lr=0.01)\n",
    "\n",
    "    new_model.load_checkpoint(new_optimizer, \"test_transformer\")\n",
    "\n",
    "    model.train(x, y, epochs=10, optimizer=new_optimizer)\n"
   ]
  },
  {
   "cell_type": "code",
   "execution_count": null,
   "id": "30f62eb9",
   "metadata": {},
   "outputs": [],
   "source": []
  }
 ],
 "metadata": {
  "kernelspec": {
   "display_name": "Python 3",
   "language": "python",
   "name": "python3"
  },
  "language_info": {
   "codemirror_mode": {
    "name": "ipython",
    "version": 3
   },
   "file_extension": ".py",
   "mimetype": "text/x-python",
   "name": "python",
   "nbconvert_exporter": "python",
   "pygments_lexer": "ipython3",
   "version": "3.12.6"
  }
 },
 "nbformat": 4,
 "nbformat_minor": 5
}
