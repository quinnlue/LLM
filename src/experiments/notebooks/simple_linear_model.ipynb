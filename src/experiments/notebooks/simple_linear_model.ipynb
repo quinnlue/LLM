{
 "cells": [
  {
   "cell_type": "code",
   "execution_count": 2,
   "id": "948e45d7",
   "metadata": {},
   "outputs": [],
   "source": [
    "import os, sys\n",
    "sys.path.append(\"../../../\")\n",
    "\n",
    "from src.core.module import Module, Linear, LayerNorm\n",
    "from src.core.losses import CrossEntropy, BCE\n",
    "from src.core.optim import Standard, AdamW\n",
    "from src.core.tensor import Tensor\n",
    "from src.utils.lr_scheduler import LRScheduler\n",
    "import numpy as np\n",
    "import time\n",
    "from typing import List\n",
    "from src.tokenizer.tokenizer import Tokenizer\n",
    "import pandas as pd"
   ]
  },
  {
   "cell_type": "code",
   "execution_count": 3,
   "id": "11bbef6d",
   "metadata": {},
   "outputs": [],
   "source": [
    "class Net(Module):\n",
    "    def __init__(self):\n",
    "        super().__init__()\n",
    "        self.fc1 = self.linear(7, 1, name=\"fc1\")\n",
    "        self.ln = self.layer_norm(axis=-1)\n",
    "\n",
    "    def forward(self, x):\n",
    "        x = self.fc1(x)\n",
    "        x = self.gelu(x)\n",
    "        x = self.dropout(x, p=0.1)\n",
    "        x = self.ln(x)\n",
    "        x = self.sigmoid(x)\n",
    "        return x\n",
    "    \n",
    "    def train(self, x: Tensor, y: Tensor, optimizer, num_epochs=100):\n",
    "        for epoch in range(num_epochs):\n",
    "            y_hat = self.forward(x)\n",
    "            \n",
    "            loss = BCE(y_hat, y)\n",
    "            \n",
    "            loss.backward()\n",
    "            \n",
    "            optimizer.step()\n",
    "            optimizer.zero_grad()\n",
    "            # if epoch % 10 == 0:\n",
    "\n",
    "            #     print(f\"Epoch {epoch}, Loss: {loss.data}\")\n",
    "\n",
    "\n",
    "\n",
    "\n",
    "\n",
    "df = pd.read_csv(\"../../../src/experiments/data.csv\")\n",
    "df['Quality'] = df['Quality'].apply(lambda x: 1 if x == \"Good\" else 0)\n",
    "X = Tensor(np.array(df.drop('Quality', axis=1).values))[:128]\n",
    "y = Tensor(np.array(df['Quality'].values).reshape((-1, 1)))[:128]\n",
    "\n",
    "X_test = Tensor(np.array(df.drop('Quality', axis=1).values))[128:]\n",
    "y_test = Tensor(np.array(df['Quality'].values).reshape((-1, 1)))[128:]"
   ]
  },
  {
   "cell_type": "code",
   "execution_count": 3,
   "id": "d1e432c4",
   "metadata": {},
   "outputs": [
    {
     "name": "stdout",
     "output_type": "stream",
     "text": [
      "{'linear_1_linear_1_fc1_weight': Tensor(data=[[-0.3298]\n",
      " [ 0.3357]\n",
      " [ 0.3323]\n",
      " [-0.3281]\n",
      " [-0.3408]\n",
      " [ 0.3281]\n",
      " [ 0.3303]], shape=(7, 1), dtype=float16), 'linear_1_linear_1_fc1_bias': Tensor(data=[0.00462], shape=(1,), dtype=float16), 'layer_norm_1_layernorm_1_gamma': Tensor(data=[1.], shape=(1,), dtype=float16), 'layer_norm_1_layernorm_1_beta': Tensor(data=[0.3027], shape=(1,), dtype=float16)}\n"
     ]
    }
   ],
   "source": [
    "net = Net()\n",
    "\n",
    "net._build(X.shape)\n",
    "scheduler = LRScheduler(warmup_steps=1000, total_steps=10000, min_lr=1e-5, max_lr=3e-4, final_lr=1e-6)\n",
    "optimizer = AdamW(net.parameters(), lr=scheduler, clip_norm=100.0)\n",
    "\n",
    "net.train(X, y, optimizer, num_epochs=1000)\n",
    "print(net.parameters())\n",
    "\n",
    "net.save_checkpoint(optimizer, \"../../../checkpoints/simple_linear_model\")"
   ]
  },
  {
   "cell_type": "code",
   "execution_count": 4,
   "id": "563e2641",
   "metadata": {},
   "outputs": [
    {
     "name": "stdout",
     "output_type": "stream",
     "text": [
      "Architecture:\n",
      "  linear_0 (linear):\n",
      "    fc1 (linear):\n",
      "      linear_1_linear_1_fc1_weight: shape=(7, 1), dtype=float16\n",
      "      linear_1_linear_1_fc1_bias: shape=(1,), dtype=float16\n",
      "  layer_norm_0 (layer_norm):\n",
      "    None (layernorm):\n",
      "{'linear_1_linear_1_fc1_weight': Tensor(data=[[-0.3298]\n",
      " [ 0.3357]\n",
      " [ 0.3323]\n",
      " [-0.3281]\n",
      " [-0.3408]\n",
      " [ 0.3281]\n",
      " [ 0.3303]], shape=(7, 1), dtype=float16), 'linear_1_linear_1_fc1_bias': Tensor(data=[0.00462], shape=(1,), dtype=float16), 'layer_norm_1_layernorm_1_gamma': Tensor(data=[1.], shape=(1,), dtype=float16), 'layer_norm_1_layernorm_1_beta': Tensor(data=[0.3027], shape=(1,), dtype=float16)}\n"
     ]
    }
   ],
   "source": [
    "new_net = Net()\n",
    "print(new_net)\n",
    "new_net._build(X.shape)\n",
    "scheduler = LRScheduler(warmup_steps=1000, total_steps=10000, min_lr=1e-5, max_lr=3e-4, final_lr=1e-6)\n",
    "optimizer = AdamW(new_net.parameters(), lr=scheduler, clip_norm=100.0)\n",
    "new_net.load_checkpoint(optimizer, \"../../../checkpoints/simple_linear_model\")\n",
    "print(new_net.parameters())\n",
    "# new_net.train(X, y, optimizer, 1000)\n"
   ]
  },
  {
   "cell_type": "code",
   "execution_count": null,
   "id": "62cf290c",
   "metadata": {},
   "outputs": [],
   "source": []
  }
 ],
 "metadata": {
  "kernelspec": {
   "display_name": "Python 3",
   "language": "python",
   "name": "python3"
  },
  "language_info": {
   "codemirror_mode": {
    "name": "ipython",
    "version": 3
   },
   "file_extension": ".py",
   "mimetype": "text/x-python",
   "name": "python",
   "nbconvert_exporter": "python",
   "pygments_lexer": "ipython3",
   "version": "3.12.6"
  }
 },
 "nbformat": 4,
 "nbformat_minor": 5
}
