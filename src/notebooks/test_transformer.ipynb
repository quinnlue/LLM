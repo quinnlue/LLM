{
 "cells": [
  {
   "cell_type": "code",
   "execution_count": 10,
   "id": "49bfc84e",
   "metadata": {},
   "outputs": [],
   "source": [
    "import os, sys\n",
    "sys.path.append(\"../../\")\n",
    "\n",
    "from src.core.module import Module, Linear, LayerNorm\n",
    "from src.core.losses import CrossEntropy, BCE\n",
    "from src.core.optim import Standard\n",
    "from src.core.tensor import Tensor\n",
    "import numpy as np\n",
    "import time\n",
    "from typing import List\n",
    "from src.tokenizer.tokenizer import Tokenizer"
   ]
  },
  {
   "cell_type": "code",
   "execution_count": 11,
   "id": "3f2f559c",
   "metadata": {},
   "outputs": [],
   "source": [
    "class Test(Module):\n",
    "    def __init__(self, d_model, n_heads, vocab_size, max_seq_len, pad_idx=0):\n",
    "        super().__init__()\n",
    "        self.e = self.embedding(vocab_size, d_model, max_seq_len, pad_idx)\n",
    "\n",
    "        self.head1 = self.transformer(d_model=d_model, n_heads=n_heads)\n",
    "        self.head2 = self.transformer(d_model=d_model, n_heads=n_heads)\n",
    "        self.head3 = self.transformer(d_model=d_model, n_heads=n_heads)\n",
    "        self.head4 = self.transformer(d_model=d_model, n_heads=n_heads)\n",
    "        self.head5 = self.transformer(d_model=d_model, n_heads=n_heads)\n",
    "        self.head6 = self.transformer(d_model=d_model, n_heads=n_heads)\n",
    "        self.head7 = self.transformer(d_model=d_model, n_heads=n_heads)\n",
    "        self.head8 = self.transformer(d_model=d_model, n_heads=n_heads)\n",
    "        self.project = self.linear(d_model, vocab_size, module_type=\"linear\", layer_type=\"linear\", name=\"project\")\n",
    "    \n",
    "    def forward(self, idx):\n",
    "        x, padding_mask = self.e.get_sentence_embedding(idx)\n",
    "        x = self.head1(x, padding_mask)\n",
    "        x = self.head2(x, padding_mask)\n",
    "        x = self.head3(x, padding_mask)\n",
    "        x = self.head4(x, padding_mask)\n",
    "        x = self.head5(x, padding_mask)\n",
    "        x = self.head6(x, padding_mask)\n",
    "        x = self.head7(x, padding_mask)\n",
    "        x = self.head8(x, padding_mask)\n",
    "        x = self.project(x)\n",
    "        return x\n",
    "\n",
    "    def train(self, x, y, epochs, lr):\n",
    "        optimizer = Standard(self.parameters(), lr=lr)\n",
    "        for epoch in range(epochs):\n",
    "            y_hat = self.forward(x)\n",
    "            loss = CrossEntropy(y_hat, y, axis=-1)\n",
    "    \n",
    "            loss.backward()\n",
    "            optimizer.step()\n",
    "            optimizer.zero_grad()\n",
    "            if epoch % 1 == 0:\n",
    "                print(f\"Epoch {epoch}, Loss: {loss.data}\")\n",
    "                \n"
   ]
  },
  {
   "cell_type": "code",
   "execution_count": 12,
   "id": "c1ccf32a",
   "metadata": {},
   "outputs": [
    {
     "name": "stdout",
     "output_type": "stream",
     "text": [
      "Tokenizer loaded with 21779 tokens\n",
      "[{'name': 'embedding_0', 'type': 'embedding'}, {'name': 'transformer_0', 'type': 'transformer'}, {'name': 'transformer_1', 'type': 'transformer'}, {'name': 'transformer_2', 'type': 'transformer'}, {'name': 'transformer_3', 'type': 'transformer'}, {'name': 'transformer_4', 'type': 'transformer'}, {'name': 'transformer_5', 'type': 'transformer'}, {'name': 'transformer_6', 'type': 'transformer'}, {'name': 'transformer_7', 'type': 'transformer'}, {'name': 'linear_0_linear_project', 'type': 'linear'}]\n",
      "48050451\n",
      "Epoch 0, Loss: 10.017140711541057\n"
     ]
    },
    {
     "ename": "KeyboardInterrupt",
     "evalue": "",
     "output_type": "error",
     "traceback": [
      "\u001b[31m---------------------------------------------------------------------------\u001b[39m",
      "\u001b[31mKeyboardInterrupt\u001b[39m                         Traceback (most recent call last)",
      "\u001b[36mCell\u001b[39m\u001b[36m \u001b[39m\u001b[32mIn[12]\u001b[39m\u001b[32m, line 16\u001b[39m\n\u001b[32m     13\u001b[39m \u001b[38;5;28mprint\u001b[39m(model.pipeline)\n\u001b[32m     14\u001b[39m \u001b[38;5;28mprint\u001b[39m(model.num_parameters)\n\u001b[32m---> \u001b[39m\u001b[32m16\u001b[39m \u001b[43mmodel\u001b[49m\u001b[43m.\u001b[49m\u001b[43mtrain\u001b[49m\u001b[43m(\u001b[49m\u001b[43mx\u001b[49m\u001b[43m,\u001b[49m\u001b[43m \u001b[49m\u001b[43my\u001b[49m\u001b[43m,\u001b[49m\u001b[43m \u001b[49m\u001b[43mepochs\u001b[49m\u001b[43m=\u001b[49m\u001b[32;43m10\u001b[39;49m\u001b[43m,\u001b[49m\u001b[43m \u001b[49m\u001b[43mlr\u001b[49m\u001b[43m=\u001b[49m\u001b[32;43m0.01\u001b[39;49m\u001b[43m)\u001b[49m\n",
      "\u001b[36mCell\u001b[39m\u001b[36m \u001b[39m\u001b[32mIn[11]\u001b[39m\u001b[32m, line 35\u001b[39m, in \u001b[36mTest.train\u001b[39m\u001b[34m(self, x, y, epochs, lr)\u001b[39m\n\u001b[32m     32\u001b[39m y_hat = \u001b[38;5;28mself\u001b[39m.forward(x)\n\u001b[32m     33\u001b[39m loss = CrossEntropy(y_hat, y, axis=-\u001b[32m1\u001b[39m)\n\u001b[32m---> \u001b[39m\u001b[32m35\u001b[39m \u001b[43mloss\u001b[49m\u001b[43m.\u001b[49m\u001b[43mbackward\u001b[49m\u001b[43m(\u001b[49m\u001b[43m)\u001b[49m\n\u001b[32m     36\u001b[39m optimizer.step()\n\u001b[32m     37\u001b[39m optimizer.zero_grad()\n",
      "\u001b[36mFile \u001b[39m\u001b[32mc:\\Users\\luequ\\OneDrive\\Desktop\\ml\\transformer\\src\\notebooks\\../..\\src\\core\\tensor.py:359\u001b[39m, in \u001b[36mTensor.backward\u001b[39m\u001b[34m(self, grad, _visited)\u001b[39m\n\u001b[32m    357\u001b[39m grads = \u001b[38;5;28mself\u001b[39m.grad_fn(\u001b[38;5;28mself\u001b[39m.grad)\n\u001b[32m    358\u001b[39m \u001b[38;5;28;01mfor\u001b[39;00m parent, g \u001b[38;5;129;01min\u001b[39;00m \u001b[38;5;28mzip\u001b[39m(\u001b[38;5;28mself\u001b[39m.parents, grads):\n\u001b[32m--> \u001b[39m\u001b[32m359\u001b[39m     \u001b[43mparent\u001b[49m\u001b[43m.\u001b[49m\u001b[43mbackward\u001b[49m\u001b[43m(\u001b[49m\u001b[43mg\u001b[49m\u001b[43m,\u001b[49m\u001b[43m \u001b[49m\u001b[43m_visited\u001b[49m\u001b[43m)\u001b[49m\n",
      "\u001b[36mFile \u001b[39m\u001b[32mc:\\Users\\luequ\\OneDrive\\Desktop\\ml\\transformer\\src\\notebooks\\../..\\src\\core\\tensor.py:357\u001b[39m, in \u001b[36mTensor.backward\u001b[39m\u001b[34m(self, grad, _visited)\u001b[39m\n\u001b[32m    355\u001b[39m \u001b[38;5;66;03m# propagate once to each parent\u001b[39;00m\n\u001b[32m    356\u001b[39m \u001b[38;5;28;01mif\u001b[39;00m \u001b[38;5;28mself\u001b[39m.grad_fn \u001b[38;5;129;01mis\u001b[39;00m \u001b[38;5;129;01mnot\u001b[39;00m \u001b[38;5;28;01mNone\u001b[39;00m:\n\u001b[32m--> \u001b[39m\u001b[32m357\u001b[39m     grads = \u001b[38;5;28;43mself\u001b[39;49m\u001b[43m.\u001b[49m\u001b[43mgrad_fn\u001b[49m\u001b[43m(\u001b[49m\u001b[38;5;28;43mself\u001b[39;49m\u001b[43m.\u001b[49m\u001b[43mgrad\u001b[49m\u001b[43m)\u001b[49m\n\u001b[32m    358\u001b[39m     \u001b[38;5;28;01mfor\u001b[39;00m parent, g \u001b[38;5;129;01min\u001b[39;00m \u001b[38;5;28mzip\u001b[39m(\u001b[38;5;28mself\u001b[39m.parents, grads):\n\u001b[32m    359\u001b[39m         parent.backward(g, _visited)\n",
      "\u001b[36mFile \u001b[39m\u001b[32mc:\\Users\\luequ\\OneDrive\\Desktop\\ml\\transformer\\src\\notebooks\\../..\\src\\core\\tensor.py:149\u001b[39m, in \u001b[36mTensor.__matmul__.<locals>.grad_fn\u001b[39m\u001b[34m(grad)\u001b[39m\n\u001b[32m    147\u001b[39m grad_self  = np.matmul(grad.data, other_T)\n\u001b[32m    148\u001b[39m grad_other = np.matmul(self_T,  grad.data)\n\u001b[32m--> \u001b[39m\u001b[32m149\u001b[39m \u001b[38;5;28;01mreturn\u001b[39;00m (Tensor(grad_self, requires_grad=\u001b[38;5;28;01mFalse\u001b[39;00m), \u001b[43mTensor\u001b[49m\u001b[43m(\u001b[49m\u001b[43mgrad_other\u001b[49m\u001b[43m,\u001b[49m\u001b[43m \u001b[49m\u001b[43mrequires_grad\u001b[49m\u001b[43m=\u001b[49m\u001b[38;5;28;43;01mFalse\u001b[39;49;00m\u001b[43m)\u001b[49m)\n",
      "\u001b[36mFile \u001b[39m\u001b[32mc:\\Users\\luequ\\OneDrive\\Desktop\\ml\\transformer\\src\\notebooks\\../..\\src\\core\\tensor.py:5\u001b[39m, in \u001b[36mTensor.__init__\u001b[39m\u001b[34m(self, data, requires_grad, requires_mask, name, beta_1, beta_2)\u001b[39m\n\u001b[32m      4\u001b[39m \u001b[38;5;28;01mdef\u001b[39;00m\u001b[38;5;250m \u001b[39m\u001b[34m__init__\u001b[39m(\u001b[38;5;28mself\u001b[39m, data, requires_grad=\u001b[38;5;28;01mTrue\u001b[39;00m, requires_mask=\u001b[38;5;28;01mFalse\u001b[39;00m, name=\u001b[38;5;28;01mNone\u001b[39;00m, beta_1=\u001b[32m0.9\u001b[39m, beta_2=\u001b[32m0.999\u001b[39m):\n\u001b[32m----> \u001b[39m\u001b[32m5\u001b[39m     \u001b[38;5;28mself\u001b[39m.data = \u001b[43mnp\u001b[49m\u001b[43m.\u001b[49m\u001b[43marray\u001b[49m\u001b[43m(\u001b[49m\u001b[43mdata\u001b[49m\u001b[43m)\u001b[49m\n\u001b[32m      6\u001b[39m     \u001b[38;5;28mself\u001b[39m.requires_grad = requires_grad\n\u001b[32m      7\u001b[39m     \u001b[38;5;28mself\u001b[39m.parents = ()\n",
      "\u001b[31mKeyboardInterrupt\u001b[39m: "
     ]
    }
   ],
   "source": [
    "if __name__ == \"__main__\":\n",
    "    tok = Tokenizer(token_to_id_path=\"../tokenizer/token_to_id.json\", merges_path=\"../tokenizer/merges.json\")\n",
    "\n",
    "    D_MODEL = 512\n",
    "    VOCAB_SIZE = len(tok)\n",
    "    N_HEADS = 8\n",
    "    MAX_SEQ_LEN = 1024\n",
    "    PAD_IDX = 0\n",
    "    model = Test(d_model=D_MODEL, n_heads=N_HEADS, vocab_size=VOCAB_SIZE, max_seq_len=MAX_SEQ_LEN, pad_idx=PAD_IDX)\n",
    "    text = \"This is especially noticeable if you're on CPU or don't have big enough matrix acceleration (like CuBLAS/GEMM on GPU).\"\n",
    "    x = np.array([tok.encode(text)])[:,:-1]\n",
    "    y = Tensor(np.array([tok.encode(text)]), requires_grad=True)[:,1:]\n",
    "    print(model.pipeline)\n",
    "    print(model.num_parameters)\n",
    "\n",
    "    model.train(x, y, epochs=10, lr=0.01)\n",
    "        "
   ]
  },
  {
   "cell_type": "code",
   "execution_count": null,
   "id": "f03d9feb",
   "metadata": {},
   "outputs": [
    {
     "ename": "AttributeError",
     "evalue": "'Test' object has no attribute 'num_params'",
     "output_type": "error",
     "traceback": [
      "\u001b[31m---------------------------------------------------------------------------\u001b[39m",
      "\u001b[31mAttributeError\u001b[39m                            Traceback (most recent call last)",
      "\u001b[36mCell\u001b[39m\u001b[36m \u001b[39m\u001b[32mIn[50]\u001b[39m\u001b[32m, line 1\u001b[39m\n\u001b[32m----> \u001b[39m\u001b[32m1\u001b[39m \u001b[43mmodel\u001b[49m\u001b[43m.\u001b[49m\u001b[43mnum_params\u001b[49m\n",
      "\u001b[31mAttributeError\u001b[39m: 'Test' object has no attribute 'num_params'"
     ]
    }
   ],
   "source": [
    "model.num_params"
   ]
  },
  {
   "cell_type": "code",
   "execution_count": 31,
   "id": "84951348",
   "metadata": {},
   "outputs": [],
   "source": [
    "x = np.array([tok.encode(text)])"
   ]
  },
  {
   "cell_type": "code",
   "execution_count": 32,
   "id": "cedee043",
   "metadata": {},
   "outputs": [
    {
     "data": {
      "text/plain": [
       "array([[  84,  423, 1442, 2636,  323, 9046,   18]])"
      ]
     },
     "execution_count": 32,
     "metadata": {},
     "output_type": "execute_result"
    }
   ],
   "source": [
    "x"
   ]
  },
  {
   "cell_type": "code",
   "execution_count": 37,
   "id": "ad160b36",
   "metadata": {},
   "outputs": [
    {
     "data": {
      "text/plain": [
       "np.int64(9046)"
      ]
     },
     "execution_count": 37,
     "metadata": {},
     "output_type": "execute_result"
    }
   ],
   "source": [
    "np.argmax(model.forward(x[:,:-1])[0][5].data)"
   ]
  },
  {
   "cell_type": "code",
   "execution_count": null,
   "id": "30f62eb9",
   "metadata": {},
   "outputs": [],
   "source": []
  }
 ],
 "metadata": {
  "kernelspec": {
   "display_name": "Python 3",
   "language": "python",
   "name": "python3"
  },
  "language_info": {
   "codemirror_mode": {
    "name": "ipython",
    "version": 3
   },
   "file_extension": ".py",
   "mimetype": "text/x-python",
   "name": "python",
   "nbconvert_exporter": "python",
   "pygments_lexer": "ipython3",
   "version": "3.12.6"
  }
 },
 "nbformat": 4,
 "nbformat_minor": 5
}
