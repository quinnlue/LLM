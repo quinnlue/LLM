{
 "cells": [
  {
   "cell_type": "code",
   "execution_count": 6,
   "id": "70f2421a",
   "metadata": {},
   "outputs": [],
   "source": [
    "import sys\n",
    "sys.path.append(\"../../\")\n",
    "\n",
    "import pandas as pd\n",
    "import string\n",
    "import re\n",
    "import unicodedata\n",
    "import importlib\n",
    "\n",
    "import src.tokenizer.tokenizer as t\n",
    "\n",
    "from tqdm import tqdm\n",
    "\n",
    "\n"
   ]
  },
  {
   "cell_type": "code",
   "execution_count": 51,
   "id": "8952ef63",
   "metadata": {},
   "outputs": [],
   "source": [
    "train_0 = pd.read_parquet(r\"..\\..\\data\\raw\\train-0.parquet\")\n",
    "train_1 = pd.read_parquet(r\"..\\..\\data\\raw\\train-1.parquet\")\n",
    "train = pd.concat([train_0, train_1])\n",
    "\n",
    "test = pd.read_parquet(r\"..\\..\\data\\raw\\test.parquet\")\n",
    "\n",
    "validation = pd.read_parquet(r\"..\\..\\data\\raw\\validation.parquet\")"
   ]
  },
  {
   "cell_type": "code",
   "execution_count": 52,
   "id": "c0ecaf55",
   "metadata": {},
   "outputs": [],
   "source": [
    "def clean_rows(df):\n",
    "    df = df[df['text'].str.strip() != \"\"].reset_index(drop=True)\n",
    "    df = df[~df['text'].str.startswith(\" =\")].reset_index(drop=True) # remove header rows\n",
    "    df = df.sample(frac=1).reset_index(drop=True)\n",
    "    return df"
   ]
  },
  {
   "cell_type": "code",
   "execution_count": 53,
   "id": "47eb2adb",
   "metadata": {},
   "outputs": [],
   "source": [
    "allowed_chars = set(string.ascii_letters + string.digits + string.punctuation + \" \\n\\t\")\n",
    "\n",
    "def clean_text(text):\n",
    "    text = unicodedata.normalize(\"NFKC\", text)\n",
    "    text = text.replace(\"“\", '\"').replace(\"”\", '\"').replace(\"‘\", \"'\").replace(\"’\", \"'\")\n",
    "    text = \"\".join(c for c in text if c in allowed_chars)\n",
    "    text = text.replace(\" @-@ \", \"-\")\n",
    "    text = text.replace(\" @,@ \", \",\")\n",
    "    text = re.sub(r\"\\s+([.,!?;':)\\]])\", r\"\\1\", text)\n",
    "    text = re.sub(r\"([.,!?;:])([^\\s])\", r\"\\1 \\2\", text)\n",
    "    text = re.sub(r\"([[(])\\s+\", r\"\\1\", text)\n",
    "    text = text.replace(r\"\\'\", \"'\")\n",
    "    text = text.strip()\n",
    "    return text"
   ]
  },
  {
   "cell_type": "code",
   "execution_count": 72,
   "id": "abde7407",
   "metadata": {},
   "outputs": [],
   "source": [
    "def get_bin(text):\n",
    "    return len(text) // 16\n",
    "\n",
    "def remove_short_rows(df):\n",
    "    return df[df['bin'] >= 4]"
   ]
  },
  {
   "cell_type": "code",
   "execution_count": null,
   "id": "491662cd",
   "metadata": {},
   "outputs": [],
   "source": [
    "train = clean_rows(train)\n",
    "train['text'] = train['text'].apply(clean_text)\n",
    "\n",
    "validation = clean_rows(validation)\n",
    "validation['text'] = validation['text'].apply(clean_text)\n",
    "\n",
    "test = clean_rows(test)\n",
    "test['text'] = test['text'].apply(clean_text)"
   ]
  },
  {
   "cell_type": "code",
   "execution_count": 73,
   "id": "632d38c5",
   "metadata": {},
   "outputs": [],
   "source": [
    "train['bin'] = train['text'].apply(get_bin)\n",
    "validation['bin'] = validation['text'].apply(get_bin)\n",
    "test['bin'] = test['text'].apply(get_bin)\n",
    "\n",
    "train = remove_short_rows(train)\n",
    "validation = remove_short_rows(validation)\n",
    "test = remove_short_rows(test)"
   ]
  },
  {
   "cell_type": "code",
   "execution_count": 106,
   "id": "f43bc8e2",
   "metadata": {},
   "outputs": [],
   "source": [
    "train.to_parquet(r\"..\\..\\data\\clean\\train.parquet\")\n",
    "validation.to_parquet(r\"..\\..\\data\\clean\\validation.parquet\")\n",
    "test.to_parquet(r\"..\\..\\data\\clean\\test.parquet\")"
   ]
  },
  {
   "cell_type": "code",
   "execution_count": 4,
   "id": "ed3fbbaa",
   "metadata": {},
   "outputs": [],
   "source": [
    "train = pd.read_parquet(r\"..\\..\\data\\clean\\train.parquet\")\n",
    "validation = pd.read_parquet(r\"..\\..\\data\\clean\\validation.parquet\")\n",
    "test = pd.read_parquet(r\"..\\..\\data\\clean\\test.parquet\")"
   ]
  },
  {
   "cell_type": "code",
   "execution_count": 5,
   "id": "20c1ec71",
   "metadata": {},
   "outputs": [],
   "source": [
    "train.to_csv(r\"..\\..\\data\\clean\\train.csv\")\n",
    "test.to_csv(r\"..\\..\\data\\clean\\test.csv\")\n",
    "validation.to_csv(r\"..\\..\\data\\clean\\validation.csv\")"
   ]
  },
  {
   "cell_type": "code",
   "execution_count": 6,
   "id": "42bb389c",
   "metadata": {},
   "outputs": [
    {
     "name": "stdout",
     "output_type": "stream",
     "text": [
      "Tokenizer loaded with 21779 tokens\n"
     ]
    }
   ],
   "source": [
    "importlib.reload(t)\n",
    "\n",
    "def tokenize(text, tokenizer):\n",
    "    seq = tokenizer.encode(text)\n",
    "    return seq\n",
    "\n",
    "tokenizer = t.Tokenizer(token_to_id_path=r\"..\\tokenizer\\token_to_id.json\", merges_path=r\"..\\tokenizer\\merges.json\")\n",
    "\n",
    "# train['text'] = train['text'].apply(lambda x: tokenize(x, tokenizer))\n",
    "# validation['text'] = validation['text'].apply(lambda x: tokenize(x, tokenizer))\n",
    "# test['text'] = test['text'].apply(lambda x: tokenize(x, tokenizer))\n",
    "\n",
    "\n",
    "\n",
    "\n",
    "\n",
    "\n",
    "\n"
   ]
  },
  {
   "cell_type": "code",
   "execution_count": 8,
   "id": "81586987",
   "metadata": {},
   "outputs": [
    {
     "name": "stderr",
     "output_type": "stream",
     "text": [
      "Tokenizing validation: 100%|██████████| 1687/1687 [14:14<00:00,  1.97it/s]\n"
     ]
    }
   ],
   "source": [
    "tokenized_val = []\n",
    "for x in tqdm(validation['text'], desc=\"Tokenizing validation\"):\n",
    "    tokenized_val.append(tokenize(x, tokenizer))\n",
    "validation['text'] = tokenized_val"
   ]
  },
  {
   "cell_type": "code",
   "execution_count": 9,
   "id": "f9ca9a78",
   "metadata": {},
   "outputs": [
    {
     "name": "stderr",
     "output_type": "stream",
     "text": [
      "Tokenizing test: 100%|██████████| 1880/1880 [16:41<00:00,  1.88it/s]\n"
     ]
    }
   ],
   "source": [
    "tokenized_test = []\n",
    "for x in tqdm(test['text'], desc=\"Tokenizing test\"):\n",
    "    tokenized_test.append(tokenize(x, tokenizer))\n",
    "test['text'] = tokenized_test"
   ]
  },
  {
   "cell_type": "code",
   "execution_count": null,
   "id": "22186660",
   "metadata": {},
   "outputs": [
    {
     "name": "stderr",
     "output_type": "stream",
     "text": [
      "Tokenizing train:   0%|          | 0/770634 [00:00<?, ?it/s]\n"
     ]
    },
    {
     "ename": "NameError",
     "evalue": "name 'tokenize' is not defined",
     "output_type": "error",
     "traceback": [
      "\u001b[31m---------------------------------------------------------------------------\u001b[39m",
      "\u001b[31mNameError\u001b[39m                                 Traceback (most recent call last)",
      "\u001b[36mCell\u001b[39m\u001b[36m \u001b[39m\u001b[32mIn[5]\u001b[39m\u001b[32m, line 3\u001b[39m\n\u001b[32m      1\u001b[39m tokenized_train = []\n\u001b[32m      2\u001b[39m \u001b[38;5;28;01mfor\u001b[39;00m x \u001b[38;5;129;01min\u001b[39;00m tqdm(train[\u001b[33m'\u001b[39m\u001b[33mtext\u001b[39m\u001b[33m'\u001b[39m], desc=\u001b[33m\"\u001b[39m\u001b[33mTokenizing train\u001b[39m\u001b[33m\"\u001b[39m):\n\u001b[32m----> \u001b[39m\u001b[32m3\u001b[39m     tokenized_train.append(\u001b[43mtokenize\u001b[49m(x, tokenizer))\n\u001b[32m      4\u001b[39m train[\u001b[33m'\u001b[39m\u001b[33mtext\u001b[39m\u001b[33m'\u001b[39m] = tokenized_train\n",
      "\u001b[31mNameError\u001b[39m: name 'tokenize' is not defined"
     ]
    }
   ],
   "source": [
    "tokenized_train = []\n",
    "for x in tqdm(train['text'], desc=\"Tokenizing train\"):\n",
    "    tokenized_train.append(tokenize(x, tokenizer))\n",
    "train['text'] = tokenized_train"
   ]
  },
  {
   "cell_type": "code",
   "execution_count": null,
   "id": "42b625c8",
   "metadata": {},
   "outputs": [],
   "source": []
  }
 ],
 "metadata": {
  "kernelspec": {
   "display_name": "Python 3",
   "language": "python",
   "name": "python3"
  },
  "language_info": {
   "codemirror_mode": {
    "name": "ipython",
    "version": 3
   },
   "file_extension": ".py",
   "mimetype": "text/x-python",
   "name": "python",
   "nbconvert_exporter": "python",
   "pygments_lexer": "ipython3",
   "version": "3.12.6"
  }
 },
 "nbformat": 4,
 "nbformat_minor": 5
}
